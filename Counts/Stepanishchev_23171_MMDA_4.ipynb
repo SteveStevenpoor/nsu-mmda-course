{
  "nbformat": 4,
  "nbformat_minor": 0,
  "metadata": {
    "colab": {
      "provenance": []
    },
    "kernelspec": {
      "name": "python3",
      "display_name": "Python 3"
    },
    "language_info": {
      "name": "python"
    }
  },
  "cells": [
    {
      "cell_type": "markdown",
      "source": [
        "#**Расчетное задание №4**"
      ],
      "metadata": {
        "id": "hnFM-8TNuF_2"
      }
    },
    {
      "cell_type": "markdown",
      "source": [
        "##Степанищев Степан, гр. 23171"
      ],
      "metadata": {
        "id": "LtpCUSpOvZzn"
      }
    },
    {
      "cell_type": "markdown",
      "source": [
        "Подключаем необходимые библиотеки\n",
        "\n",
        "---\n",
        "\n"
      ],
      "metadata": {
        "id": "6ZV04T2xvbxh"
      }
    },
    {
      "cell_type": "code",
      "execution_count": 37,
      "metadata": {
        "id": "uTnD24n6hBtg"
      },
      "outputs": [],
      "source": [
        "import math\n",
        "import numpy as np\n",
        "import pandas as pd\n",
        "import matplotlib.pyplot as plt"
      ]
    },
    {
      "cell_type": "markdown",
      "source": [
        "Вводим данные, соответствующие V=6\n",
        "\n",
        "---\n",
        "\n"
      ],
      "metadata": {
        "id": "H_tL6vKSviOT"
      }
    },
    {
      "cell_type": "code",
      "source": [
        "V = 6\n",
        "\n",
        "classCount = 2\n",
        "\n",
        "N1 = 6\n",
        "N2 = 4\n",
        "N = N1 + N2\n",
        "\n",
        "attr_1 = [40+V, 100-V, 30+V, 25+V, V, 100+V, 230-V, 110+V, 120+V, 180-V]\n",
        "attr_2 = [10+V, 110-V, 20+V, 15+V, 105-V, 120+V, 220-V, 90+V, 200-V, 160-V]\n",
        "target = [1, 1, 1, 1, 1, 1, 2, 2, 2, 2]\n",
        "\n",
        "d = {'X1': attr_1, 'X2': attr_2, 'target': target}\n",
        "full_df = pd.DataFrame(data=d)\n",
        "\n",
        "Y=full_df['target']\n",
        "X=full_df.drop(columns=['target'])\n",
        "full_df.T"
      ],
      "metadata": {
        "colab": {
          "base_uri": "https://localhost:8080/",
          "height": 144
        },
        "id": "DEcfSRbqv0pK",
        "outputId": "716d501b-052b-4ffa-95bb-d7c5f786a7d4"
      },
      "execution_count": 38,
      "outputs": [
        {
          "output_type": "execute_result",
          "data": {
            "text/plain": [
              "         0    1   2   3   4    5    6    7    8    9\n",
              "X1      46   94  36  31   6  106  224  116  126  174\n",
              "X2      16  104  26  21  99  126  214   96  194  154\n",
              "target   1    1   1   1   1    1    2    2    2    2"
            ],
            "text/html": [
              "\n",
              "  <div id=\"df-f3743710-f53c-459e-b861-394da22a31b5\" class=\"colab-df-container\">\n",
              "    <div>\n",
              "<style scoped>\n",
              "    .dataframe tbody tr th:only-of-type {\n",
              "        vertical-align: middle;\n",
              "    }\n",
              "\n",
              "    .dataframe tbody tr th {\n",
              "        vertical-align: top;\n",
              "    }\n",
              "\n",
              "    .dataframe thead th {\n",
              "        text-align: right;\n",
              "    }\n",
              "</style>\n",
              "<table border=\"1\" class=\"dataframe\">\n",
              "  <thead>\n",
              "    <tr style=\"text-align: right;\">\n",
              "      <th></th>\n",
              "      <th>0</th>\n",
              "      <th>1</th>\n",
              "      <th>2</th>\n",
              "      <th>3</th>\n",
              "      <th>4</th>\n",
              "      <th>5</th>\n",
              "      <th>6</th>\n",
              "      <th>7</th>\n",
              "      <th>8</th>\n",
              "      <th>9</th>\n",
              "    </tr>\n",
              "  </thead>\n",
              "  <tbody>\n",
              "    <tr>\n",
              "      <th>X1</th>\n",
              "      <td>46</td>\n",
              "      <td>94</td>\n",
              "      <td>36</td>\n",
              "      <td>31</td>\n",
              "      <td>6</td>\n",
              "      <td>106</td>\n",
              "      <td>224</td>\n",
              "      <td>116</td>\n",
              "      <td>126</td>\n",
              "      <td>174</td>\n",
              "    </tr>\n",
              "    <tr>\n",
              "      <th>X2</th>\n",
              "      <td>16</td>\n",
              "      <td>104</td>\n",
              "      <td>26</td>\n",
              "      <td>21</td>\n",
              "      <td>99</td>\n",
              "      <td>126</td>\n",
              "      <td>214</td>\n",
              "      <td>96</td>\n",
              "      <td>194</td>\n",
              "      <td>154</td>\n",
              "    </tr>\n",
              "    <tr>\n",
              "      <th>target</th>\n",
              "      <td>1</td>\n",
              "      <td>1</td>\n",
              "      <td>1</td>\n",
              "      <td>1</td>\n",
              "      <td>1</td>\n",
              "      <td>1</td>\n",
              "      <td>2</td>\n",
              "      <td>2</td>\n",
              "      <td>2</td>\n",
              "      <td>2</td>\n",
              "    </tr>\n",
              "  </tbody>\n",
              "</table>\n",
              "</div>\n",
              "    <div class=\"colab-df-buttons\">\n",
              "\n",
              "  <div class=\"colab-df-container\">\n",
              "    <button class=\"colab-df-convert\" onclick=\"convertToInteractive('df-f3743710-f53c-459e-b861-394da22a31b5')\"\n",
              "            title=\"Convert this dataframe to an interactive table.\"\n",
              "            style=\"display:none;\">\n",
              "\n",
              "  <svg xmlns=\"http://www.w3.org/2000/svg\" height=\"24px\" viewBox=\"0 -960 960 960\">\n",
              "    <path d=\"M120-120v-720h720v720H120Zm60-500h600v-160H180v160Zm220 220h160v-160H400v160Zm0 220h160v-160H400v160ZM180-400h160v-160H180v160Zm440 0h160v-160H620v160ZM180-180h160v-160H180v160Zm440 0h160v-160H620v160Z\"/>\n",
              "  </svg>\n",
              "    </button>\n",
              "\n",
              "  <style>\n",
              "    .colab-df-container {\n",
              "      display:flex;\n",
              "      gap: 12px;\n",
              "    }\n",
              "\n",
              "    .colab-df-convert {\n",
              "      background-color: #E8F0FE;\n",
              "      border: none;\n",
              "      border-radius: 50%;\n",
              "      cursor: pointer;\n",
              "      display: none;\n",
              "      fill: #1967D2;\n",
              "      height: 32px;\n",
              "      padding: 0 0 0 0;\n",
              "      width: 32px;\n",
              "    }\n",
              "\n",
              "    .colab-df-convert:hover {\n",
              "      background-color: #E2EBFA;\n",
              "      box-shadow: 0px 1px 2px rgba(60, 64, 67, 0.3), 0px 1px 3px 1px rgba(60, 64, 67, 0.15);\n",
              "      fill: #174EA6;\n",
              "    }\n",
              "\n",
              "    .colab-df-buttons div {\n",
              "      margin-bottom: 4px;\n",
              "    }\n",
              "\n",
              "    [theme=dark] .colab-df-convert {\n",
              "      background-color: #3B4455;\n",
              "      fill: #D2E3FC;\n",
              "    }\n",
              "\n",
              "    [theme=dark] .colab-df-convert:hover {\n",
              "      background-color: #434B5C;\n",
              "      box-shadow: 0px 1px 3px 1px rgba(0, 0, 0, 0.15);\n",
              "      filter: drop-shadow(0px 1px 2px rgba(0, 0, 0, 0.3));\n",
              "      fill: #FFFFFF;\n",
              "    }\n",
              "  </style>\n",
              "\n",
              "    <script>\n",
              "      const buttonEl =\n",
              "        document.querySelector('#df-f3743710-f53c-459e-b861-394da22a31b5 button.colab-df-convert');\n",
              "      buttonEl.style.display =\n",
              "        google.colab.kernel.accessAllowed ? 'block' : 'none';\n",
              "\n",
              "      async function convertToInteractive(key) {\n",
              "        const element = document.querySelector('#df-f3743710-f53c-459e-b861-394da22a31b5');\n",
              "        const dataTable =\n",
              "          await google.colab.kernel.invokeFunction('convertToInteractive',\n",
              "                                                    [key], {});\n",
              "        if (!dataTable) return;\n",
              "\n",
              "        const docLinkHtml = 'Like what you see? Visit the ' +\n",
              "          '<a target=\"_blank\" href=https://colab.research.google.com/notebooks/data_table.ipynb>data table notebook</a>'\n",
              "          + ' to learn more about interactive tables.';\n",
              "        element.innerHTML = '';\n",
              "        dataTable['output_type'] = 'display_data';\n",
              "        await google.colab.output.renderOutput(dataTable, element);\n",
              "        const docLink = document.createElement('div');\n",
              "        docLink.innerHTML = docLinkHtml;\n",
              "        element.appendChild(docLink);\n",
              "      }\n",
              "    </script>\n",
              "  </div>\n",
              "\n",
              "\n",
              "<div id=\"df-ab96c6da-1f10-4aba-a480-d4e83e31c007\">\n",
              "  <button class=\"colab-df-quickchart\" onclick=\"quickchart('df-ab96c6da-1f10-4aba-a480-d4e83e31c007')\"\n",
              "            title=\"Suggest charts.\"\n",
              "            style=\"display:none;\">\n",
              "\n",
              "<svg xmlns=\"http://www.w3.org/2000/svg\" height=\"24px\"viewBox=\"0 0 24 24\"\n",
              "     width=\"24px\">\n",
              "    <g>\n",
              "        <path d=\"M19 3H5c-1.1 0-2 .9-2 2v14c0 1.1.9 2 2 2h14c1.1 0 2-.9 2-2V5c0-1.1-.9-2-2-2zM9 17H7v-7h2v7zm4 0h-2V7h2v10zm4 0h-2v-4h2v4z\"/>\n",
              "    </g>\n",
              "</svg>\n",
              "  </button>\n",
              "\n",
              "<style>\n",
              "  .colab-df-quickchart {\n",
              "      --bg-color: #E8F0FE;\n",
              "      --fill-color: #1967D2;\n",
              "      --hover-bg-color: #E2EBFA;\n",
              "      --hover-fill-color: #174EA6;\n",
              "      --disabled-fill-color: #AAA;\n",
              "      --disabled-bg-color: #DDD;\n",
              "  }\n",
              "\n",
              "  [theme=dark] .colab-df-quickchart {\n",
              "      --bg-color: #3B4455;\n",
              "      --fill-color: #D2E3FC;\n",
              "      --hover-bg-color: #434B5C;\n",
              "      --hover-fill-color: #FFFFFF;\n",
              "      --disabled-bg-color: #3B4455;\n",
              "      --disabled-fill-color: #666;\n",
              "  }\n",
              "\n",
              "  .colab-df-quickchart {\n",
              "    background-color: var(--bg-color);\n",
              "    border: none;\n",
              "    border-radius: 50%;\n",
              "    cursor: pointer;\n",
              "    display: none;\n",
              "    fill: var(--fill-color);\n",
              "    height: 32px;\n",
              "    padding: 0;\n",
              "    width: 32px;\n",
              "  }\n",
              "\n",
              "  .colab-df-quickchart:hover {\n",
              "    background-color: var(--hover-bg-color);\n",
              "    box-shadow: 0 1px 2px rgba(60, 64, 67, 0.3), 0 1px 3px 1px rgba(60, 64, 67, 0.15);\n",
              "    fill: var(--button-hover-fill-color);\n",
              "  }\n",
              "\n",
              "  .colab-df-quickchart-complete:disabled,\n",
              "  .colab-df-quickchart-complete:disabled:hover {\n",
              "    background-color: var(--disabled-bg-color);\n",
              "    fill: var(--disabled-fill-color);\n",
              "    box-shadow: none;\n",
              "  }\n",
              "\n",
              "  .colab-df-spinner {\n",
              "    border: 2px solid var(--fill-color);\n",
              "    border-color: transparent;\n",
              "    border-bottom-color: var(--fill-color);\n",
              "    animation:\n",
              "      spin 1s steps(1) infinite;\n",
              "  }\n",
              "\n",
              "  @keyframes spin {\n",
              "    0% {\n",
              "      border-color: transparent;\n",
              "      border-bottom-color: var(--fill-color);\n",
              "      border-left-color: var(--fill-color);\n",
              "    }\n",
              "    20% {\n",
              "      border-color: transparent;\n",
              "      border-left-color: var(--fill-color);\n",
              "      border-top-color: var(--fill-color);\n",
              "    }\n",
              "    30% {\n",
              "      border-color: transparent;\n",
              "      border-left-color: var(--fill-color);\n",
              "      border-top-color: var(--fill-color);\n",
              "      border-right-color: var(--fill-color);\n",
              "    }\n",
              "    40% {\n",
              "      border-color: transparent;\n",
              "      border-right-color: var(--fill-color);\n",
              "      border-top-color: var(--fill-color);\n",
              "    }\n",
              "    60% {\n",
              "      border-color: transparent;\n",
              "      border-right-color: var(--fill-color);\n",
              "    }\n",
              "    80% {\n",
              "      border-color: transparent;\n",
              "      border-right-color: var(--fill-color);\n",
              "      border-bottom-color: var(--fill-color);\n",
              "    }\n",
              "    90% {\n",
              "      border-color: transparent;\n",
              "      border-bottom-color: var(--fill-color);\n",
              "    }\n",
              "  }\n",
              "</style>\n",
              "\n",
              "  <script>\n",
              "    async function quickchart(key) {\n",
              "      const quickchartButtonEl =\n",
              "        document.querySelector('#' + key + ' button');\n",
              "      quickchartButtonEl.disabled = true;  // To prevent multiple clicks.\n",
              "      quickchartButtonEl.classList.add('colab-df-spinner');\n",
              "      try {\n",
              "        const charts = await google.colab.kernel.invokeFunction(\n",
              "            'suggestCharts', [key], {});\n",
              "      } catch (error) {\n",
              "        console.error('Error during call to suggestCharts:', error);\n",
              "      }\n",
              "      quickchartButtonEl.classList.remove('colab-df-spinner');\n",
              "      quickchartButtonEl.classList.add('colab-df-quickchart-complete');\n",
              "    }\n",
              "    (() => {\n",
              "      let quickchartButtonEl =\n",
              "        document.querySelector('#df-ab96c6da-1f10-4aba-a480-d4e83e31c007 button');\n",
              "      quickchartButtonEl.style.display =\n",
              "        google.colab.kernel.accessAllowed ? 'block' : 'none';\n",
              "    })();\n",
              "  </script>\n",
              "</div>\n",
              "    </div>\n",
              "  </div>\n"
            ]
          },
          "metadata": {},
          "execution_count": 38
        }
      ]
    },
    {
      "cell_type": "markdown",
      "source": [
        "Вычисляем средние для каждого класса\n",
        "\n",
        "---\n",
        "\n"
      ],
      "metadata": {
        "id": "Grab30NMwYFU"
      }
    },
    {
      "cell_type": "code",
      "source": [
        "m1 = np.array(X[Y==1].mean())\n",
        "\n",
        "m2 = np.array(X[Y==2].mean())\n",
        "\n",
        "m1, m2"
      ],
      "metadata": {
        "colab": {
          "base_uri": "https://localhost:8080/"
        },
        "id": "JyToKP_2wtrw",
        "outputId": "8fdbafd1-d71a-4a05-a013-98c0d04ffacc"
      },
      "execution_count": 39,
      "outputs": [
        {
          "output_type": "execute_result",
          "data": {
            "text/plain": [
              "(array([53.16666667, 65.33333333]), array([160. , 164.5]))"
            ]
          },
          "metadata": {},
          "execution_count": 39
        }
      ]
    },
    {
      "cell_type": "markdown",
      "source": [
        "Вычисляем общую матрицу разброса, чтобы потом найти 𝑊\n",
        "\n",
        "---\n",
        "\n"
      ],
      "metadata": {
        "id": "cGRWhtbYyOEd"
      }
    },
    {
      "cell_type": "code",
      "source": [
        "def vec2mat(v):\n",
        "  rows, cols = len(v), len(v)\n",
        "  mat = np.zeros((rows, cols))\n",
        "  for i in range(rows):\n",
        "    for j in range(cols):\n",
        "      mat[i][j] = v[i]*v[j]\n",
        "  return mat"
      ],
      "metadata": {
        "id": "bAVC-ufp9Mlp"
      },
      "execution_count": 40,
      "outputs": []
    },
    {
      "cell_type": "code",
      "source": [
        "X = np.array(list(zip(X['X1'], X['X2'])))\n",
        "Y = np.array(Y)"
      ],
      "metadata": {
        "id": "oHIOTIow4Mmf"
      },
      "execution_count": 41,
      "outputs": []
    },
    {
      "cell_type": "code",
      "source": [
        "S1, S2 = np.zeros((classCount, classCount)), np.zeros((classCount, classCount))\n",
        "\n",
        "for i in range(N1):\n",
        "  S1 += vec2mat(X[i] - m1)\n",
        "\n",
        "for i in range(N2):\n",
        "  S2 += vec2mat(X[6 + i] - m2)\n",
        "\n",
        "S = S1 + S2\n",
        "S"
      ],
      "metadata": {
        "id": "0nJxa30hzN-f",
        "colab": {
          "base_uri": "https://localhost:8080/"
        },
        "outputId": "dfa13847-b563-4da7-b1a3-ec9576272a6c"
      },
      "execution_count": 42,
      "outputs": [
        {
          "output_type": "execute_result",
          "data": {
            "text/plain": [
              "array([[14904.83333333, 10239.66666667],\n",
              "       [10239.66666667, 20378.33333333]])"
            ]
          },
          "metadata": {},
          "execution_count": 42
        }
      ]
    },
    {
      "cell_type": "markdown",
      "source": [
        "Теперь можем вычислить 𝑊\n",
        "\n",
        "---\n",
        "\n"
      ],
      "metadata": {
        "id": "PAJmXrPu_-e9"
      }
    },
    {
      "cell_type": "code",
      "source": [
        "w = np.linalg.inv(S).dot(m1 - m2)\n",
        "w = w/np.linalg.norm(w, ord=2)\n",
        "\n",
        "m = (N1*m1 + N2*m2)/N\n",
        "w0 = w.dot(m)\n",
        "w, w0"
      ],
      "metadata": {
        "id": "xfneG8prAICU",
        "colab": {
          "base_uri": "https://localhost:8080/"
        },
        "outputId": "169cb422-d38f-42c9-9304-2a8f0536be6e"
      },
      "execution_count": 44,
      "outputs": [
        {
          "output_type": "execute_result",
          "data": {
            "text/plain": [
              "(array([-0.94943879, -0.3139522 ]), -124.01616095406143)"
            ]
          },
          "metadata": {},
          "execution_count": 44
        }
      ]
    },
    {
      "cell_type": "markdown",
      "source": [
        "Рисуем\n",
        "\n",
        "---\n"
      ],
      "metadata": {
        "id": "xUSyWsCnDovf"
      }
    },
    {
      "cell_type": "code",
      "source": [
        "def plotW(ax, X):\n",
        "  mp = max(max(X[0]), max(X[1])) + 10\n",
        "  start = m - w*mp\n",
        "  end = m + w*mp\n",
        "  ax.plot([start[0], end[0]], [start[1], end[1]], c='orange')"
      ],
      "metadata": {
        "id": "gTgpP4XaDrF8"
      },
      "execution_count": 45,
      "outputs": []
    },
    {
      "cell_type": "code",
      "source": [
        "def plotScatter(ax, X):\n",
        "  ax.scatter(X[0, :N1], X[1, :N1], c='red')\n",
        "  ax.scatter(X[0, N1:N], X[1, N1:N], c='blue')"
      ],
      "metadata": {
        "id": "9zDYwlxuKHc1"
      },
      "execution_count": 46,
      "outputs": []
    },
    {
      "cell_type": "code",
      "source": [
        "def plotDivisor(ax, X):\n",
        "  mp = max(max(X[0]), max(X[1])) + 10\n",
        "  ort = np.array([w[1], -w[0]])\n",
        "  start = m + ort*mp\n",
        "  end = m - ort*mp\n",
        "  ax.plot([start[0], end[0]], [start[1], end[1]], c='pink', linestyle='--')"
      ],
      "metadata": {
        "id": "E3WoVZKfM73o"
      },
      "execution_count": 47,
      "outputs": []
    },
    {
      "cell_type": "code",
      "source": [
        "def plotProjections(ax):\n",
        "  for i in range(N):\n",
        "    M = np.array([[w[1], -w[0]], [-w[0], -w[1]]])\n",
        "    v = np.array([w[1]*m[0] - w[0]*m[1], -w[0]*X[0][i] - w[1]*X[1][i]])\n",
        "    u = np.linalg.solve(M, v)\n",
        "    ax.plot([X[0][i], u[0]], [X[1][i], u[1]], c='pink', linestyle='--')"
      ],
      "metadata": {
        "id": "kFoNKZIcN6kS"
      },
      "execution_count": 48,
      "outputs": []
    },
    {
      "cell_type": "code",
      "source": [
        "fig, ax = plt.subplots()\n",
        "\n",
        "X = np.array(list(zip(*X)))\n",
        "plotW(ax, X)\n",
        "plotScatter(ax, X)\n",
        "plotDivisor(ax, X)\n",
        "plotProjections(ax)\n",
        "X = np.array(list(zip(X[0], X[1])))\n",
        "\n"
      ],
      "metadata": {
        "colab": {
          "base_uri": "https://localhost:8080/",
          "height": 430
        },
        "id": "i5hxsPhIEOCZ",
        "outputId": "5eb75c0b-f106-4999-b793-35cbcd736dd0"
      },
      "execution_count": 49,
      "outputs": [
        {
          "output_type": "display_data",
          "data": {
            "text/plain": [
              "<Figure size 640x480 with 1 Axes>"
            ],
            "image/png": "[encoded data removed]"
          },
          "metadata": {}
        }
      ]
    }
  ]
}