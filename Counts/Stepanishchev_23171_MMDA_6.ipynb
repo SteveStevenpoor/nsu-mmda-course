{
  "nbformat": 4,
  "nbformat_minor": 0,
  "metadata": {
    "colab": {
      "provenance": []
    },
    "kernelspec": {
      "name": "python3",
      "display_name": "Python 3"
    },
    "language_info": {
      "name": "python"
    }
  },
  "cells": [
    {
      "cell_type": "markdown",
      "source": [
        "#**Расчетное задание №6**"
      ],
      "metadata": {
        "id": "pcHSEOu8H79m"
      }
    },
    {
      "cell_type": "markdown",
      "source": [
        "##Степанищев Степан, гр. 23171"
      ],
      "metadata": {
        "id": "bM-NrpkPMvsj"
      }
    },
    {
      "cell_type": "markdown",
      "source": [
        "Подключаем библиотеки\n",
        "\n",
        "---\n",
        "\n"
      ],
      "metadata": {
        "id": "zMPxxSJtMxC3"
      }
    },
    {
      "cell_type": "code",
      "source": [
        "import math\n",
        "import numpy as np"
      ],
      "metadata": {
        "id": "PyhCEpm9Lf0l"
      },
      "execution_count": 2,
      "outputs": []
    },
    {
      "cell_type": "markdown",
      "source": [
        "Проводим все необходимые вычисления, как на паре\n",
        "\n",
        "---\n",
        "\n"
      ],
      "metadata": {
        "id": "y0UPyw10M0R5"
      }
    },
    {
      "cell_type": "code",
      "execution_count": 4,
      "metadata": {
        "colab": {
          "base_uri": "https://localhost:8080/",
          "height": 147
        },
        "id": "SK4xiwA9Hv2j",
        "outputId": "c192bdd8-4dfb-4568-8467-af119928e332"
      },
      "outputs": [
        {
          "output_type": "display_data",
          "data": {
            "text/plain": [
              "'E0: 45.6'"
            ],
            "application/vnd.google.colaboratory.intrinsic+json": {
              "type": "string"
            }
          },
          "metadata": {}
        },
        {
          "output_type": "display_data",
          "data": {
            "text/plain": [
              "'E_1: 49.25999999999999'"
            ],
            "application/vnd.google.colaboratory.intrinsic+json": {
              "type": "string"
            }
          },
          "metadata": {}
        },
        {
          "output_type": "display_data",
          "data": {
            "text/plain": [
              "'E_2: 49.187999999999995'"
            ],
            "application/vnd.google.colaboratory.intrinsic+json": {
              "type": "string"
            }
          },
          "metadata": {}
        },
        {
          "output_type": "display_data",
          "data": {
            "text/plain": [
              "'E_3: 48.6'"
            ],
            "application/vnd.google.colaboratory.intrinsic+json": {
              "type": "string"
            }
          },
          "metadata": {}
        },
        {
          "output_type": "display_data",
          "data": {
            "text/plain": [
              "'E_4: 46.86'"
            ],
            "application/vnd.google.colaboratory.intrinsic+json": {
              "type": "string"
            }
          },
          "metadata": {}
        },
        {
          "output_type": "display_data",
          "data": {
            "text/plain": [
              "'E_5: 41.76'"
            ],
            "application/vnd.google.colaboratory.intrinsic+json": {
              "type": "string"
            }
          },
          "metadata": {}
        },
        {
          "output_type": "display_data",
          "data": {
            "text/plain": [
              "'Max income: 3.6599999999999895'"
            ],
            "application/vnd.google.colaboratory.intrinsic+json": {
              "type": "string"
            }
          },
          "metadata": {}
        }
      ],
      "source": [
        "V = 6\n",
        "\n",
        "TPR = np.array([0.6, 0.75, 0.8, 0.9, 0.95])\n",
        "FPR = np.array([0.05, 0.08, 0.1, 0.15, 0.25])\n",
        "\n",
        "p = V/100\n",
        "q = 1 - p\n",
        "\n",
        "V_p = -30*V\n",
        "V_q = 10*V\n",
        "\n",
        "E_0 = p*V_p + q*V_q\n",
        "display(f'E0: {E_0}')\n",
        "\n",
        "max_income = 0\n",
        "for i in range(len(TPR)):\n",
        "  E_curr = p*TPR[i]*0 + p*(1-TPR[i])*V_p + q*FPR[i]*0 + q*(1-FPR[i])*V_q\n",
        "  income_curr = E_curr - E_0\n",
        "  if income_curr > max_income:\n",
        "    max_income=income_curr\n",
        "  display(f'E_{i+1}: {E_curr}')\n",
        "\n",
        "display(f'Max income: {max_income}')\n",
        ""
      ]
    },
    {
      "cell_type": "markdown",
      "source": [
        "**Вывод:** использование модели целесообразно при всех вариантах, кроме последнего, поскольку приведет к росту ожидаемого дохода. Максимальный доход достигается при пороге, который даёт нам TPR=0.6 и FPR=0.05."
      ],
      "metadata": {
        "id": "KqUXKobKL3LR"
      }
    }
  ]
}