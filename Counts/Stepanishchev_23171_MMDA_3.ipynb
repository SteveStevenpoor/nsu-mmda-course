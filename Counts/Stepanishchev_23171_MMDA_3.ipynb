{
  "nbformat": 4,
  "nbformat_minor": 0,
  "metadata": {
    "colab": {
      "provenance": []
    },
    "kernelspec": {
      "name": "python3",
      "display_name": "Python 3"
    },
    "language_info": {
      "name": "python"
    }
  },
  "cells": [
    {
      "cell_type": "markdown",
      "source": [
        "#**Расчетное задание №3**"
      ],
      "metadata": {
        "id": "SVanhqqwEDzV"
      }
    },
    {
      "cell_type": "markdown",
      "source": [
        "##Степанищев Степан, гр. 23171"
      ],
      "metadata": {
        "id": "LgWSl_lbEKyA"
      }
    },
    {
      "cell_type": "markdown",
      "source": [
        "Подключаем необходимые библиотеки\n",
        "\n",
        "---\n",
        "\n"
      ],
      "metadata": {
        "id": "eap1WPOjEQUX"
      }
    },
    {
      "cell_type": "code",
      "source": [
        "import math\n",
        "import pandas as pd\n",
        "import numpy as np\n",
        "import matplotlib.pyplot as plt"
      ],
      "metadata": {
        "id": "Qn55or2gETzQ"
      },
      "execution_count": 52,
      "outputs": []
    },
    {
      "cell_type": "markdown",
      "source": [
        "Вводим данные, соответствующие V=6\n",
        "\n",
        "---\n",
        "\n"
      ],
      "metadata": {
        "id": "ubJFd0PREZMW"
      }
    },
    {
      "cell_type": "code",
      "execution_count": 53,
      "metadata": {
        "id": "x1kWTE-3D9rN"
      },
      "outputs": [],
      "source": [
        "V = 6\n",
        "N = 10\n",
        "\n",
        "attr_1 = [40+V, 100-V, 30+V, 25+V, V, 100+V, 230-V, 110+V, 120+V, 180-V]\n",
        "attr_2 = [10+V, 110-V, 20+V, 15+V, 105-V, 120+V, 220-V, 90+V, 200-V, 160-V]\n",
        "target = [1, 1, 1, 1, 1, 1, 2, 2, 2, 2]\n",
        "d = {'X1': attr_1, 'X2': attr_2, 'target': target}\n",
        "full_df = pd.DataFrame(data=d)\n",
        "\n",
        "Y=full_df['target']\n",
        "X=full_df.drop(columns=['target'])"
      ]
    },
    {
      "cell_type": "markdown",
      "source": [
        "Вычисляем мат. ожидания по обоим признакам\n",
        "\n",
        "---\n",
        "\n"
      ],
      "metadata": {
        "id": "eaUyFPDnHPf9"
      }
    },
    {
      "cell_type": "code",
      "source": [
        "mu_1 = X[0:6]['X1'].mean()\n",
        "mu_2 = X[0:6]['X2'].mean()\n",
        "mu = [mu_1,mu_2]\n",
        "\n",
        "nu_1 = X[6:]['X1'].mean()\n",
        "nu_2 = X[6:]['X2'].mean()\n",
        "nu = [nu_1,nu_2]"
      ],
      "metadata": {
        "id": "ciCr7cHOHR9c"
      },
      "execution_count": 54,
      "outputs": []
    },
    {
      "cell_type": "markdown",
      "source": [
        "Вычисляем дисперсию по формуле из шпаргалки\n",
        "\n",
        "---\n",
        "\n"
      ],
      "metadata": {
        "id": "-38ZiFL4H8lt"
      }
    },
    {
      "cell_type": "code",
      "source": [
        "X=X.values.T\n",
        "dispersion = 1/20 * sum(\n",
        "    [sum([(X[j][i] - mu[j])**2 for i in range(6)]) +\n",
        "    sum([(X[j][i] - nu[j])**2 for i in range(6,10)])\n",
        "    for j in range(2)])"
      ],
      "metadata": {
        "id": "H-FVyvCAIFQ4"
      },
      "execution_count": 55,
      "outputs": []
    },
    {
      "cell_type": "markdown",
      "source": [
        "Теперь мы сможем легко найти уравнение прямой (а у нас разделяющая функция задает именно прямую, в силу равенства дисперсий) с к-ми *a* и *b*\n",
        "\n",
        "---\n",
        "\n"
      ],
      "metadata": {
        "id": "dIB9T7OPKYiy"
      }
    },
    {
      "cell_type": "code",
      "source": [
        "P1 = 6/N\n",
        "P2 = 4/N\n",
        "\n",
        "a = (mu[0] - nu[0]) / (nu[1] - mu[1])\n",
        "b = ((nu[0]**2 + nu[1]**2 - mu[0]**2 - mu[1]**2) / (2*(nu[1]-mu[1]))) - (dispersion / (nu[1] - mu[1])) * math.log((P2/P1))\n"
      ],
      "metadata": {
        "id": "OZSGd7evK4PI"
      },
      "execution_count": 56,
      "outputs": []
    },
    {
      "cell_type": "markdown",
      "source": [
        "Остается только изобразить решение\n",
        "\n",
        "---\n",
        "\n"
      ],
      "metadata": {
        "id": "rjNiZ_4fL1W0"
      }
    },
    {
      "cell_type": "code",
      "source": [
        "def f(x):\n",
        "  return a * x + b"
      ],
      "metadata": {
        "id": "Feu5o-_hL6Dw"
      },
      "execution_count": 57,
      "outputs": []
    },
    {
      "cell_type": "code",
      "source": [
        "grid = np.linspace(X[0].min() - 0.5, X[0].max() + 0.5, 1000)\n",
        "plt.scatter(X[0], X[1], c=Y)\n",
        "\n",
        "curve = f(grid)\n",
        "plt.plot(grid, curve)\n"
      ],
      "metadata": {
        "colab": {
          "base_uri": "https://localhost:8080/",
          "height": 447
        },
        "id": "GCEadEcEMUvZ",
        "outputId": "71591a77-6cf9-4f54-c122-1d7444aebbed"
      },
      "execution_count": 59,
      "outputs": [
        {
          "output_type": "execute_result",
          "data": {
            "text/plain": [
              "[<matplotlib.lines.Line2D at 0x7ba49a042b00>]"
            ]
          },
          "metadata": {},
          "execution_count": 59
        },
        {
          "output_type": "display_data",
          "data": {
            "text/plain": [
              "<Figure size 640x480 with 1 Axes>"
            ],
            "image/png": "[encoded data removed]"
          },
          "metadata": {}
        }
      ]
    },
    {
      "cell_type": "markdown",
      "source": [
        "**Вывод:** Получили точность 80%, что в принципе не сильно плохо."
      ],
      "metadata": {
        "id": "pi4uWCLWNA0Q"
      }
    }
  ]
}