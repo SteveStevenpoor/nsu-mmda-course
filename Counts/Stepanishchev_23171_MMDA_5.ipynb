{
  "nbformat": 4,
  "nbformat_minor": 0,
  "metadata": {
    "colab": {
      "provenance": []
    },
    "kernelspec": {
      "name": "python3",
      "display_name": "Python 3"
    },
    "language_info": {
      "name": "python"
    }
  },
  "cells": [
    {
      "cell_type": "markdown",
      "source": [
        "#**Расчетное задание №5**"
      ],
      "metadata": {
        "id": "3L-K3az5-W97"
      }
    },
    {
      "cell_type": "markdown",
      "source": [
        "##Степанищев Степан, гр. 23171"
      ],
      "metadata": {
        "id": "R9JsqE-7-i9K"
      }
    },
    {
      "cell_type": "markdown",
      "source": [
        "Подключаем библиотеки\n",
        "\n",
        "---\n",
        "\n"
      ],
      "metadata": {
        "id": "zuKdhzdE-wp5"
      }
    },
    {
      "cell_type": "code",
      "execution_count": 75,
      "metadata": {
        "id": "VtQQgwik-WIq"
      },
      "outputs": [],
      "source": [
        "import matplotlib.pyplot as plt\n",
        "import numpy as np\n",
        "import scipy.stats as stts"
      ]
    },
    {
      "cell_type": "markdown",
      "source": [
        "Вводим данные задачи\n",
        "\n",
        "---\n",
        "\n"
      ],
      "metadata": {
        "id": "wxZUU4f2-zZn"
      }
    },
    {
      "cell_type": "code",
      "source": [
        "V=6\n",
        "\n",
        "X=np.array([[V+13], [V+16], [V+19], [V+23], [V+26], [V+30], [V+42]])\n",
        "Y=np.array([V+3, V+5, V+4, V+6, V+6, V+9, V+8])"
      ],
      "metadata": {
        "id": "qnTwEEmK_AL5"
      },
      "execution_count": 46,
      "outputs": []
    },
    {
      "cell_type": "markdown",
      "source": [
        "Оцениваем параметры линейной регрессии с помощью МНК\n",
        "\n",
        "---\n",
        "\n"
      ],
      "metadata": {
        "id": "12XjfgWb_hQQ"
      }
    },
    {
      "cell_type": "code",
      "source": [
        "X_expanded = np.concatenate((np.array([[1]*len(X)]).T, X), axis=1)\n",
        "\n",
        "b=(np.linalg.inv(X_expanded.T @ X_expanded) @ X_expanded.T) @ Y\n",
        "b"
      ],
      "metadata": {
        "colab": {
          "base_uri": "https://localhost:8080/"
        },
        "id": "XCXa31CWADgt",
        "outputId": "a2fca313-64a6-498c-ebbe-0aa719a762e8"
      },
      "execution_count": 47,
      "outputs": [
        {
          "output_type": "execute_result",
          "data": {
            "text/plain": [
              "array([6.34393638, 0.18290258])"
            ]
          },
          "metadata": {},
          "execution_count": 47
        }
      ]
    },
    {
      "cell_type": "markdown",
      "source": [
        "Построим прямую $y=b_0+x*b_1$\n",
        "\n",
        "---\n",
        "\n"
      ],
      "metadata": {
        "id": "7YPoAtfLD1pW"
      }
    },
    {
      "cell_type": "code",
      "source": [
        "scale=10\n",
        "\n",
        "fig, ax = plt.subplots(figsize = (scale, scale))\n",
        "ax.scatter(X, Y, c = 'orange')\n",
        "\n",
        "grid = np.linspace(0, 50, 1000)\n",
        "curve = b[0]+grid*b[1]\n",
        "ax.plot(grid, curve, c = 'orange')"
      ],
      "metadata": {
        "colab": {
          "base_uri": "https://localhost:8080/",
          "height": 847
        },
        "id": "JvLiFBfREK9o",
        "outputId": "5b70726b-bf28-4e2f-f199-9b711aa7f76a"
      },
      "execution_count": 49,
      "outputs": [
        {
          "output_type": "execute_result",
          "data": {
            "text/plain": [
              "[<matplotlib.lines.Line2D at 0x7c17a23c3820>]"
            ]
          },
          "metadata": {},
          "execution_count": 49
        },
        {
          "output_type": "display_data",
          "data": {
            "text/plain": [
              "<Figure size 1000x1000 with 1 Axes>"
            ],
            "image/png": "[encoded data removed]"
          },
          "metadata": {}
        }
      ]
    },
    {
      "cell_type": "markdown",
      "source": [
        "Вычислим линейный коэффициент корреляции между $X$ и $Y$.\n",
        "\n",
        "---\n",
        "\n"
      ],
      "metadata": {
        "id": "1S91Tu1AE5CU"
      }
    },
    {
      "cell_type": "code",
      "source": [
        "X_mean = np.array([X.mean()]*len(X))\n",
        "Y_mean = np.array([Y.mean()]*len(Y))\n",
        "\n",
        "nom = np.dot(X.T-X_mean, Y.T-Y_mean)\n",
        "denom = np.sqrt(np.sum((X.T-X_mean) ** 2)*np.sum((Y.T-Y_mean) ** 2))\n",
        "r_XY = nom/denom\n",
        "r_XY[0]"
      ],
      "metadata": {
        "colab": {
          "base_uri": "https://localhost:8080/"
        },
        "id": "iYcvF-PNFUvP",
        "outputId": "2f97db58-4c4f-4dc5-a2d8-939c2c3b0193"
      },
      "execution_count": 57,
      "outputs": [
        {
          "output_type": "execute_result",
          "data": {
            "text/plain": [
              "0.8461939260999831"
            ]
          },
          "metadata": {},
          "execution_count": 57
        }
      ]
    },
    {
      "cell_type": "markdown",
      "source": [
        "Вычислим коэффициент детерминации $R^2$.\n",
        "\n",
        "---\n",
        "\n"
      ],
      "metadata": {
        "id": "uSUOrUL4SBs1"
      }
    },
    {
      "cell_type": "code",
      "source": [
        "Y_pred = b[0]+X*b[1]\n",
        "\n",
        "RSS = np.sum((Y - Y_pred.T) ** 2)\n",
        "TSS = np.sum((Y - Y.mean()) ** 2)\n",
        "R_squared= (TSS-RSS)/TSS\n",
        "R_squared"
      ],
      "metadata": {
        "colab": {
          "base_uri": "https://localhost:8080/"
        },
        "id": "t4SSYtYySJWY",
        "outputId": "8c1e9bcf-47a9-4968-e6b2-d0c504d7caa8"
      },
      "execution_count": 63,
      "outputs": [
        {
          "output_type": "execute_result",
          "data": {
            "text/plain": [
              "0.7160441605685037"
            ]
          },
          "metadata": {},
          "execution_count": 63
        }
      ]
    },
    {
      "cell_type": "markdown",
      "source": [
        "**Вывод:** модель на 71% соответствует данным, на которых она построена."
      ],
      "metadata": {
        "id": "f6KjTVknTq5T"
      }
    },
    {
      "cell_type": "markdown",
      "source": [
        "Вычислим стандартную ошибку регрессии.\n",
        "\n",
        "---\n",
        "\n"
      ],
      "metadata": {
        "id": "lunt55fKTxr_"
      }
    },
    {
      "cell_type": "code",
      "source": [
        "N=len(X)\n",
        "n=len(b) - 1\n",
        "\n",
        "s_squared=RSS / (N - n - 1)\n",
        "s_squared"
      ],
      "metadata": {
        "colab": {
          "base_uri": "https://localhost:8080/"
        },
        "id": "f4tKHI_1XcDF",
        "outputId": "060df0e1-044e-4966-e5eb-f60c53c11332"
      },
      "execution_count": 68,
      "outputs": [
        {
          "output_type": "execute_result",
          "data": {
            "text/plain": [
              "1.5252485089463224"
            ]
          },
          "metadata": {},
          "execution_count": 68
        }
      ]
    },
    {
      "cell_type": "markdown",
      "source": [
        "Найдём значение $Y$ для $X=10$.\n",
        "\n",
        "---\n",
        "\n"
      ],
      "metadata": {
        "id": "x7KFie97X8ce"
      }
    },
    {
      "cell_type": "code",
      "source": [
        "X_test=10\n",
        "Y_test = b[0]+X_test*b[1]\n",
        "Y_test"
      ],
      "metadata": {
        "colab": {
          "base_uri": "https://localhost:8080/"
        },
        "id": "GNoS2pw2YIiF",
        "outputId": "7416368e-81c8-43f5-ead0-e656ebacac48"
      },
      "execution_count": 70,
      "outputs": [
        {
          "output_type": "execute_result",
          "data": {
            "text/plain": [
              "8.172962226640138"
            ]
          },
          "metadata": {},
          "execution_count": 70
        }
      ]
    },
    {
      "cell_type": "markdown",
      "source": [
        "Проверим гипотезу о значимости параметров по критерию Стьюдента. Проверяем $H_{0j}= \\{b_j = 0\\}$.\n",
        "\n",
        "---\n",
        "\n"
      ],
      "metadata": {
        "id": "u7jdHTaXYmHY"
      }
    },
    {
      "cell_type": "code",
      "source": [
        "M = np.linalg.inv(X_expanded.T @ X_expanded)\n",
        "s = np.array([np.sqrt(s_squared*M[0][0]), np.sqrt(s_squared*M[1][1])])\n",
        "t = np.array([b[0]/s[0], b[1]/s[1]])\n",
        "\n",
        "alpha = 0.05\n",
        "t_cr = stts.t.ppf(1-alpha, N-n-1)\n",
        "display(f'Is b[0] sagnificant? {t[0]>t_cr}', f'Is b[1] sagnificant? {t[1]>t_cr}')"
      ],
      "metadata": {
        "colab": {
          "base_uri": "https://localhost:8080/",
          "height": 54
        },
        "id": "-bl_utLLdkVY",
        "outputId": "dc7e9e9e-bb86-426c-d27d-669911fbd40c"
      },
      "execution_count": 88,
      "outputs": [
        {
          "output_type": "display_data",
          "data": {
            "text/plain": [
              "'Is b[0] sagnificant? True'"
            ],
            "application/vnd.google.colaboratory.intrinsic+json": {
              "type": "string"
            }
          },
          "metadata": {}
        },
        {
          "output_type": "display_data",
          "data": {
            "text/plain": [
              "'Is b[1] sagnificant? True'"
            ],
            "application/vnd.google.colaboratory.intrinsic+json": {
              "type": "string"
            }
          },
          "metadata": {}
        }
      ]
    },
    {
      "cell_type": "markdown",
      "source": [
        "**Вывод:** отвергаем гипотезу о том, что параметры равны нулю. Следовательно, считаем их значимыми (при уровне значимости $0.05$)."
      ],
      "metadata": {
        "id": "DdF5ujgLjuQL"
      }
    },
    {
      "cell_type": "markdown",
      "source": [
        "Проверим гипотезу о значимости регрессии в целом по критерию Фишера. Проверяем $H_0 = \\{b_1=b_2=0\\}$.\n",
        "\n",
        "---\n",
        "\n"
      ],
      "metadata": {
        "id": "UeAWOgCTj81Q"
      }
    },
    {
      "cell_type": "code",
      "source": [
        "F = (R_squared*(N-n-1))/(n*(1-R_squared))\n",
        "F_cr = stts.f.ppf(alpha, n, N-n-1)\n",
        "display(f'Is method sagnificant? {F>F_cr}')"
      ],
      "metadata": {
        "colab": {
          "base_uri": "https://localhost:8080/",
          "height": 36
        },
        "id": "KXyfJEd7kJfk",
        "outputId": "6cf3a969-58e1-4171-92e4-98f0f0c725e1"
      },
      "execution_count": 90,
      "outputs": [
        {
          "output_type": "display_data",
          "data": {
            "text/plain": [
              "'Is method sagnificant? True'"
            ],
            "application/vnd.google.colaboratory.intrinsic+json": {
              "type": "string"
            }
          },
          "metadata": {}
        }
      ]
    },
    {
      "cell_type": "markdown",
      "source": [
        "**Вывод:** модель значима."
      ],
      "metadata": {
        "id": "lOpd3_eOlI_J"
      }
    }
  ]
}