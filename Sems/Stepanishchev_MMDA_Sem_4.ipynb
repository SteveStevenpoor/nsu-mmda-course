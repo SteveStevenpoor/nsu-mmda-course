{
  "nbformat": 4,
  "nbformat_minor": 0,
  "metadata": {
    "colab": {
      "provenance": []
    },
    "kernelspec": {
      "name": "python3",
      "display_name": "Python 3"
    },
    "language_info": {
      "name": "python"
    }
  },
  "cells": [
    {
      "cell_type": "markdown",
      "source": [
        "#**Семинар №4**"
      ],
      "metadata": {
        "id": "5JDFpAhqVZJm"
      }
    },
    {
      "cell_type": "markdown",
      "source": [
        "##Степанищев Степан, гр. 23171"
      ],
      "metadata": {
        "id": "iFLb6KfBVdKQ"
      }
    },
    {
      "cell_type": "markdown",
      "source": [
        "Подключаем необходимые библиотеки\n",
        "\n",
        "---\n"
      ],
      "metadata": {
        "id": "0sdwdhLPVi9z"
      }
    },
    {
      "cell_type": "code",
      "execution_count": 1,
      "metadata": {
        "id": "js-l1FZ_VL8j"
      },
      "outputs": [],
      "source": [
        "import math\n",
        "import numpy as np\n",
        "import pandas as pd\n",
        "import matplotlib.pyplot as plt"
      ]
    },
    {
      "cell_type": "markdown",
      "source": [
        "Вводим данные задачи\n",
        "\n",
        "---"
      ],
      "metadata": {
        "id": "GgWi1vr4Vn1T"
      }
    },
    {
      "cell_type": "code",
      "source": [
        "d = {'LPH enzyme concentration': [1, 2, 3, 4, 5, 6], 'Glucoamylaze enzyme': [1, 3, 2, 5, 3, 4], 'TARGET': [-1, -1, -1, 1, 1, 1]}\n",
        "df = pd.DataFrame(data=d)\n",
        "df"
      ],
      "metadata": {
        "colab": {
          "base_uri": "https://localhost:8080/",
          "height": 238
        },
        "id": "IGANek21V0q7",
        "outputId": "146e52ed-73f4-4210-b8dc-672cf9d3011f"
      },
      "execution_count": 197,
      "outputs": [
        {
          "output_type": "execute_result",
          "data": {
            "text/plain": [
              "   LPH enzyme concentration  Glucoamylaze enzyme  TARGET\n",
              "0                         1                    1      -1\n",
              "1                         2                    3      -1\n",
              "2                         3                    2      -1\n",
              "3                         4                    5       1\n",
              "4                         5                    3       1\n",
              "5                         6                    4       1"
            ],
            "text/html": [
              "\n",
              "  <div id=\"df-813df686-0442-42a2-899b-b8d2a2fdc669\" class=\"colab-df-container\">\n",
              "    <div>\n",
              "<style scoped>\n",
              "    .dataframe tbody tr th:only-of-type {\n",
              "        vertical-align: middle;\n",
              "    }\n",
              "\n",
              "    .dataframe tbody tr th {\n",
              "        vertical-align: top;\n",
              "    }\n",
              "\n",
              "    .dataframe thead th {\n",
              "        text-align: right;\n",
              "    }\n",
              "</style>\n",
              "<table border=\"1\" class=\"dataframe\">\n",
              "  <thead>\n",
              "    <tr style=\"text-align: right;\">\n",
              "      <th></th>\n",
              "      <th>LPH enzyme concentration</th>\n",
              "      <th>Glucoamylaze enzyme</th>\n",
              "      <th>TARGET</th>\n",
              "    </tr>\n",
              "  </thead>\n",
              "  <tbody>\n",
              "    <tr>\n",
              "      <th>0</th>\n",
              "      <td>1</td>\n",
              "      <td>1</td>\n",
              "      <td>-1</td>\n",
              "    </tr>\n",
              "    <tr>\n",
              "      <th>1</th>\n",
              "      <td>2</td>\n",
              "      <td>3</td>\n",
              "      <td>-1</td>\n",
              "    </tr>\n",
              "    <tr>\n",
              "      <th>2</th>\n",
              "      <td>3</td>\n",
              "      <td>2</td>\n",
              "      <td>-1</td>\n",
              "    </tr>\n",
              "    <tr>\n",
              "      <th>3</th>\n",
              "      <td>4</td>\n",
              "      <td>5</td>\n",
              "      <td>1</td>\n",
              "    </tr>\n",
              "    <tr>\n",
              "      <th>4</th>\n",
              "      <td>5</td>\n",
              "      <td>3</td>\n",
              "      <td>1</td>\n",
              "    </tr>\n",
              "    <tr>\n",
              "      <th>5</th>\n",
              "      <td>6</td>\n",
              "      <td>4</td>\n",
              "      <td>1</td>\n",
              "    </tr>\n",
              "  </tbody>\n",
              "</table>\n",
              "</div>\n",
              "    <div class=\"colab-df-buttons\">\n",
              "\n",
              "  <div class=\"colab-df-container\">\n",
              "    <button class=\"colab-df-convert\" onclick=\"convertToInteractive('df-813df686-0442-42a2-899b-b8d2a2fdc669')\"\n",
              "            title=\"Convert this dataframe to an interactive table.\"\n",
              "            style=\"display:none;\">\n",
              "\n",
              "  <svg xmlns=\"http://www.w3.org/2000/svg\" height=\"24px\" viewBox=\"0 -960 960 960\">\n",
              "    <path d=\"M120-120v-720h720v720H120Zm60-500h600v-160H180v160Zm220 220h160v-160H400v160Zm0 220h160v-160H400v160ZM180-400h160v-160H180v160Zm440 0h160v-160H620v160ZM180-180h160v-160H180v160Zm440 0h160v-160H620v160Z\"/>\n",
              "  </svg>\n",
              "    </button>\n",
              "\n",
              "  <style>\n",
              "    .colab-df-container {\n",
              "      display:flex;\n",
              "      gap: 12px;\n",
              "    }\n",
              "\n",
              "    .colab-df-convert {\n",
              "      background-color: #E8F0FE;\n",
              "      border: none;\n",
              "      border-radius: 50%;\n",
              "      cursor: pointer;\n",
              "      display: none;\n",
              "      fill: #1967D2;\n",
              "      height: 32px;\n",
              "      padding: 0 0 0 0;\n",
              "      width: 32px;\n",
              "    }\n",
              "\n",
              "    .colab-df-convert:hover {\n",
              "      background-color: #E2EBFA;\n",
              "      box-shadow: 0px 1px 2px rgba(60, 64, 67, 0.3), 0px 1px 3px 1px rgba(60, 64, 67, 0.15);\n",
              "      fill: #174EA6;\n",
              "    }\n",
              "\n",
              "    .colab-df-buttons div {\n",
              "      margin-bottom: 4px;\n",
              "    }\n",
              "\n",
              "    [theme=dark] .colab-df-convert {\n",
              "      background-color: #3B4455;\n",
              "      fill: #D2E3FC;\n",
              "    }\n",
              "\n",
              "    [theme=dark] .colab-df-convert:hover {\n",
              "      background-color: #434B5C;\n",
              "      box-shadow: 0px 1px 3px 1px rgba(0, 0, 0, 0.15);\n",
              "      filter: drop-shadow(0px 1px 2px rgba(0, 0, 0, 0.3));\n",
              "      fill: #FFFFFF;\n",
              "    }\n",
              "  </style>\n",
              "\n",
              "    <script>\n",
              "      const buttonEl =\n",
              "        document.querySelector('#df-813df686-0442-42a2-899b-b8d2a2fdc669 button.colab-df-convert');\n",
              "      buttonEl.style.display =\n",
              "        google.colab.kernel.accessAllowed ? 'block' : 'none';\n",
              "\n",
              "      async function convertToInteractive(key) {\n",
              "        const element = document.querySelector('#df-813df686-0442-42a2-899b-b8d2a2fdc669');\n",
              "        const dataTable =\n",
              "          await google.colab.kernel.invokeFunction('convertToInteractive',\n",
              "                                                    [key], {});\n",
              "        if (!dataTable) return;\n",
              "\n",
              "        const docLinkHtml = 'Like what you see? Visit the ' +\n",
              "          '<a target=\"_blank\" href=https://colab.research.google.com/notebooks/data_table.ipynb>data table notebook</a>'\n",
              "          + ' to learn more about interactive tables.';\n",
              "        element.innerHTML = '';\n",
              "        dataTable['output_type'] = 'display_data';\n",
              "        await google.colab.output.renderOutput(dataTable, element);\n",
              "        const docLink = document.createElement('div');\n",
              "        docLink.innerHTML = docLinkHtml;\n",
              "        element.appendChild(docLink);\n",
              "      }\n",
              "    </script>\n",
              "  </div>\n",
              "\n",
              "\n",
              "<div id=\"df-f82f1a63-e079-4692-9ff6-10093e93ed0f\">\n",
              "  <button class=\"colab-df-quickchart\" onclick=\"quickchart('df-f82f1a63-e079-4692-9ff6-10093e93ed0f')\"\n",
              "            title=\"Suggest charts\"\n",
              "            style=\"display:none;\">\n",
              "\n",
              "<svg xmlns=\"http://www.w3.org/2000/svg\" height=\"24px\"viewBox=\"0 0 24 24\"\n",
              "     width=\"24px\">\n",
              "    <g>\n",
              "        <path d=\"M19 3H5c-1.1 0-2 .9-2 2v14c0 1.1.9 2 2 2h14c1.1 0 2-.9 2-2V5c0-1.1-.9-2-2-2zM9 17H7v-7h2v7zm4 0h-2V7h2v10zm4 0h-2v-4h2v4z\"/>\n",
              "    </g>\n",
              "</svg>\n",
              "  </button>\n",
              "\n",
              "<style>\n",
              "  .colab-df-quickchart {\n",
              "      --bg-color: #E8F0FE;\n",
              "      --fill-color: #1967D2;\n",
              "      --hover-bg-color: #E2EBFA;\n",
              "      --hover-fill-color: #174EA6;\n",
              "      --disabled-fill-color: #AAA;\n",
              "      --disabled-bg-color: #DDD;\n",
              "  }\n",
              "\n",
              "  [theme=dark] .colab-df-quickchart {\n",
              "      --bg-color: #3B4455;\n",
              "      --fill-color: #D2E3FC;\n",
              "      --hover-bg-color: #434B5C;\n",
              "      --hover-fill-color: #FFFFFF;\n",
              "      --disabled-bg-color: #3B4455;\n",
              "      --disabled-fill-color: #666;\n",
              "  }\n",
              "\n",
              "  .colab-df-quickchart {\n",
              "    background-color: var(--bg-color);\n",
              "    border: none;\n",
              "    border-radius: 50%;\n",
              "    cursor: pointer;\n",
              "    display: none;\n",
              "    fill: var(--fill-color);\n",
              "    height: 32px;\n",
              "    padding: 0;\n",
              "    width: 32px;\n",
              "  }\n",
              "\n",
              "  .colab-df-quickchart:hover {\n",
              "    background-color: var(--hover-bg-color);\n",
              "    box-shadow: 0 1px 2px rgba(60, 64, 67, 0.3), 0 1px 3px 1px rgba(60, 64, 67, 0.15);\n",
              "    fill: var(--button-hover-fill-color);\n",
              "  }\n",
              "\n",
              "  .colab-df-quickchart-complete:disabled,\n",
              "  .colab-df-quickchart-complete:disabled:hover {\n",
              "    background-color: var(--disabled-bg-color);\n",
              "    fill: var(--disabled-fill-color);\n",
              "    box-shadow: none;\n",
              "  }\n",
              "\n",
              "  .colab-df-spinner {\n",
              "    border: 2px solid var(--fill-color);\n",
              "    border-color: transparent;\n",
              "    border-bottom-color: var(--fill-color);\n",
              "    animation:\n",
              "      spin 1s steps(1) infinite;\n",
              "  }\n",
              "\n",
              "  @keyframes spin {\n",
              "    0% {\n",
              "      border-color: transparent;\n",
              "      border-bottom-color: var(--fill-color);\n",
              "      border-left-color: var(--fill-color);\n",
              "    }\n",
              "    20% {\n",
              "      border-color: transparent;\n",
              "      border-left-color: var(--fill-color);\n",
              "      border-top-color: var(--fill-color);\n",
              "    }\n",
              "    30% {\n",
              "      border-color: transparent;\n",
              "      border-left-color: var(--fill-color);\n",
              "      border-top-color: var(--fill-color);\n",
              "      border-right-color: var(--fill-color);\n",
              "    }\n",
              "    40% {\n",
              "      border-color: transparent;\n",
              "      border-right-color: var(--fill-color);\n",
              "      border-top-color: var(--fill-color);\n",
              "    }\n",
              "    60% {\n",
              "      border-color: transparent;\n",
              "      border-right-color: var(--fill-color);\n",
              "    }\n",
              "    80% {\n",
              "      border-color: transparent;\n",
              "      border-right-color: var(--fill-color);\n",
              "      border-bottom-color: var(--fill-color);\n",
              "    }\n",
              "    90% {\n",
              "      border-color: transparent;\n",
              "      border-bottom-color: var(--fill-color);\n",
              "    }\n",
              "  }\n",
              "</style>\n",
              "\n",
              "  <script>\n",
              "    async function quickchart(key) {\n",
              "      const quickchartButtonEl =\n",
              "        document.querySelector('#' + key + ' button');\n",
              "      quickchartButtonEl.disabled = true;  // To prevent multiple clicks.\n",
              "      quickchartButtonEl.classList.add('colab-df-spinner');\n",
              "      try {\n",
              "        const charts = await google.colab.kernel.invokeFunction(\n",
              "            'suggestCharts', [key], {});\n",
              "      } catch (error) {\n",
              "        console.error('Error during call to suggestCharts:', error);\n",
              "      }\n",
              "      quickchartButtonEl.classList.remove('colab-df-spinner');\n",
              "      quickchartButtonEl.classList.add('colab-df-quickchart-complete');\n",
              "    }\n",
              "    (() => {\n",
              "      let quickchartButtonEl =\n",
              "        document.querySelector('#df-f82f1a63-e079-4692-9ff6-10093e93ed0f button');\n",
              "      quickchartButtonEl.style.display =\n",
              "        google.colab.kernel.accessAllowed ? 'block' : 'none';\n",
              "    })();\n",
              "  </script>\n",
              "</div>\n",
              "    </div>\n",
              "  </div>\n"
            ]
          },
          "metadata": {},
          "execution_count": 197
        }
      ]
    },
    {
      "cell_type": "code",
      "source": [
        "#supportive vectors\n",
        "sup_V = [[2, 3], [5, 3]]\n",
        "y_V = [-1, 1]"
      ],
      "metadata": {
        "id": "UFfqDIWDW08J"
      },
      "execution_count": 198,
      "outputs": []
    },
    {
      "cell_type": "markdown",
      "source": [
        "Ищем множители Лагранжа. Для 2х опорных векторов это делается совсем просто.\n",
        "\n",
        "---"
      ],
      "metadata": {
        "id": "jMTG0mY9Xh1s"
      }
    },
    {
      "cell_type": "code",
      "source": [
        "alpha = 0\n",
        "for i in range(2):\n",
        "    for j in range(2):\n",
        "        alpha += (y_V[i]*y_V[j]*np.dot(sup_V[i],sup_V[j]))\n",
        "alpha = 2/alpha\n",
        "alpha"
      ],
      "metadata": {
        "colab": {
          "base_uri": "https://localhost:8080/"
        },
        "id": "vNcSPB5PX3GD",
        "outputId": "683d65e3-c678-4661-9e87-e470a076d64f"
      },
      "execution_count": 200,
      "outputs": [
        {
          "output_type": "execute_result",
          "data": {
            "text/plain": [
              "0.2222222222222222"
            ]
          },
          "metadata": {},
          "execution_count": 200
        }
      ]
    },
    {
      "cell_type": "markdown",
      "source": [
        "Теперь можем найти вектор нормали к разделяющей прямой и смещение:\n",
        "\n",
        "---"
      ],
      "metadata": {
        "id": "sMWHcu_BZaDl"
      }
    },
    {
      "cell_type": "code",
      "source": [
        "w = alpha*np.array(y_V[i]*sup_V[i]) + alpha*np.array(y_V[j]*sup_V[j])\n",
        "b = 0.5*((y_V[0] - np.dot(w, sup_V[0])) + (y_V[1] - np.dot(w, sup_V[1])))\n",
        "display(w, b)"
      ],
      "metadata": {
        "colab": {
          "base_uri": "https://localhost:8080/",
          "height": 52
        },
        "id": "lybLDpnOZtTw",
        "outputId": "a71e44da-dcd5-482c-a704-a8a70a49a41d"
      },
      "execution_count": 201,
      "outputs": [
        {
          "output_type": "display_data",
          "data": {
            "text/plain": [
              "array([2.22222222, 1.33333333])"
            ]
          },
          "metadata": {}
        },
        {
          "output_type": "display_data",
          "data": {
            "text/plain": [
              "-11.777777777777779"
            ]
          },
          "metadata": {}
        }
      ]
    },
    {
      "cell_type": "markdown",
      "source": [
        "Теперь мы готовы классифицировать новые данные\n",
        "\n",
        "---\n",
        "\n"
      ],
      "metadata": {
        "id": "3sInsPGib1qY"
      }
    },
    {
      "cell_type": "code",
      "source": [
        "def predict(x, w, b):\n",
        "  y = []\n",
        "  for i in range(len(x)):\n",
        "    y.append(np.sign(np.dot(w,x[i]) + b))\n",
        "  return y"
      ],
      "metadata": {
        "id": "32_7V9WKcC91"
      },
      "execution_count": 202,
      "outputs": []
    },
    {
      "cell_type": "code",
      "source": [
        "test_X = np.array([[3,3], [3,4], [4,3]])\n",
        "pred_Y = np.array([predict(test_X, w, b)])\n",
        "pred_Y"
      ],
      "metadata": {
        "colab": {
          "base_uri": "https://localhost:8080/"
        },
        "id": "FmsgtBF7dCPU",
        "outputId": "9f026d25-140a-4323-ff2a-3c215f5661e1"
      },
      "execution_count": 203,
      "outputs": [
        {
          "output_type": "execute_result",
          "data": {
            "text/plain": [
              "array([[-1.,  1.,  1.]])"
            ]
          },
          "metadata": {},
          "execution_count": 203
        }
      ]
    },
    {
      "cell_type": "markdown",
      "source": [
        "Рисуем\n",
        "\n",
        "---\n"
      ],
      "metadata": {
        "id": "2BAZogJsdlAa"
      }
    },
    {
      "cell_type": "code",
      "source": [
        "scale=10\n",
        "\n",
        "tmp_arr=np.concatenate((test_X, pred_Y.T), axis = 1)\n",
        "tmp_df=df3 = pd.DataFrame(data=tmp_arr, columns=df.columns)\n",
        "tmp_df = df.append(tmp_df, ignore_index=True)\n",
        "\n",
        "fig, ax = plt.subplots(figsize = (scale, scale))\n",
        "ax.scatter(tmp_df['LPH enzyme concentration'], tmp_df['Glucoamylaze enzyme'], c = tmp_df['TARGET'])\n",
        "\n",
        "grid = np.linspace(0, 6, 1000)\n",
        "curve = -1 * (w[0] * grid + b)/w[1]\n",
        "ax.plot(grid, curve, c = 'orange')\n",
        "ax.plot(grid, curve + 1, c = 'orange', linestyle = 'dashed')\n",
        "ax.plot(grid, curve - 1, c = 'orange', linestyle = 'dashed')"
      ],
      "metadata": {
        "colab": {
          "base_uri": "https://localhost:8080/",
          "height": 882
        },
        "id": "Wze0Nc3tdo5I",
        "outputId": "b0d6929d-2c9e-41da-9824-10d05b0f377d"
      },
      "execution_count": 205,
      "outputs": [
        {
          "output_type": "stream",
          "name": "stderr",
          "text": [
            "<ipython-input-205-804638ecb9eb>:5: FutureWarning: The frame.append method is deprecated and will be removed from pandas in a future version. Use pandas.concat instead.\n",
            "  tmp_df = df.append(tmp_df, ignore_index=True)\n"
          ]
        },
        {
          "output_type": "execute_result",
          "data": {
            "text/plain": [
              "[<matplotlib.lines.Line2D at 0x7a5f33281960>]"
            ]
          },
          "metadata": {},
          "execution_count": 205
        },
        {
          "output_type": "display_data",
          "data": {
            "text/plain": [
              "<Figure size 1000x1000 with 1 Axes>"
            ],
            "image/png": "[encoded data removed]"
          },
          "metadata": {}
        }
      ]
    },
    {
      "cell_type": "markdown",
      "source": [
        "Делаем все то же самое для новой пары опорных векторов\n",
        "\n",
        "---\n",
        "\n"
      ],
      "metadata": {
        "id": "VKxN0utPybqD"
      }
    },
    {
      "cell_type": "code",
      "source": [
        "#supportive vectors\n",
        "sup_V = [[2, 3], [4, 5]]\n",
        "y_V = [-1, 1]\n",
        "\n",
        "#alpha\n",
        "alpha = 0\n",
        "for i in range(2):\n",
        "    for j in range(2):\n",
        "        alpha += (y_V[i]*y_V[j]*np.dot(sup_V[i],sup_V[j]))\n",
        "alpha = 2/alpha\n",
        "\n",
        "#w,b\n",
        "w = alpha*np.array(y_V[i]*sup_V[i]) + alpha*np.array(y_V[j]*sup_V[j])\n",
        "b = 0.5*((y_V[0] - np.dot(w, sup_V[0])) + (y_V[1] - np.dot(w, sup_V[1])))\n",
        "\n",
        "#predict\n",
        "test_X = np.array([[3,3], [3,4], [4,3]])\n",
        "pred_Y = np.array([predict(test_X, w, b)])\n",
        "\n",
        "#plot\n",
        "scale=10\n",
        "\n",
        "tmp_arr=np.concatenate((test_X, pred_Y.T), axis = 1)\n",
        "tmp_df=df3 = pd.DataFrame(data=tmp_arr, columns=df.columns)\n",
        "tmp_df = df.append(tmp_df, ignore_index=True)\n",
        "\n",
        "fig, ax = plt.subplots(figsize = (scale, scale))\n",
        "ax.scatter(tmp_df['LPH enzyme concentration'], tmp_df['Glucoamylaze enzyme'], c = tmp_df['TARGET'])\n",
        "\n",
        "grid = np.linspace(0, 6, 1000)\n",
        "curve = -1 * (w[0] * grid + b)/w[1]\n",
        "ax.plot(grid, curve, c = 'orange')\n",
        "ax.plot(grid, curve + 1, c = 'orange', linestyle = 'dashed')\n",
        "ax.plot(grid, curve - 1, c = 'orange', linestyle = 'dashed')\n",
        "\n"
      ],
      "metadata": {
        "colab": {
          "base_uri": "https://localhost:8080/",
          "height": 882
        },
        "id": "KnMmn5vGyebh",
        "outputId": "efe1c369-62fd-4cf1-d922-b5a6ca3c20cf"
      },
      "execution_count": 210,
      "outputs": [
        {
          "output_type": "stream",
          "name": "stderr",
          "text": [
            "<ipython-input-210-b2ab30305c6b>:25: FutureWarning: The frame.append method is deprecated and will be removed from pandas in a future version. Use pandas.concat instead.\n",
            "  tmp_df = df.append(tmp_df, ignore_index=True)\n"
          ]
        },
        {
          "output_type": "execute_result",
          "data": {
            "text/plain": [
              "[<matplotlib.lines.Line2D at 0x7a5f32f41510>]"
            ]
          },
          "metadata": {},
          "execution_count": 210
        },
        {
          "output_type": "display_data",
          "data": {
            "text/plain": [
              "<Figure size 1000x1000 with 1 Axes>"
            ],
            "image/png": "[encoded data removed]"
          },
          "metadata": {}
        }
      ]
    }
  ]
}